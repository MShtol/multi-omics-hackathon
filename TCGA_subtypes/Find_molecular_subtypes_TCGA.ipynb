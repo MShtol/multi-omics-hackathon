{
 "cells": [
  {
   "cell_type": "markdown",
   "metadata": {},
   "source": [
    "In this vignette we will use the **TCGAbiolinks** to access TCGA metadata and explore estabilished classification of molecular subtypes in the TCGA Acute Myeloid Leukemia samples."
   ]
  },
  {
   "cell_type": "markdown",
   "metadata": {},
   "source": [
    "## Step 1: Set-up"
   ]
  },
  {
   "cell_type": "markdown",
   "metadata": {},
   "source": [
    "1. Download and unzip AML dataset from: http://acgt.cs.tau.ac.il/multi_omic_benchmark/download.html (Rappoport & Shamir, 2019). \n",
    "2. Install required packages (see *set_up.R* for instructions if needed)"
   ]
  },
  {
   "cell_type": "code",
   "execution_count": 1,
   "metadata": {},
   "outputs": [
    {
     "name": "stderr",
     "output_type": "stream",
     "text": [
      "── \u001b[1mAttaching packages\u001b[22m ─────────────────────────────────────── tidyverse 1.3.1 ──\n",
      "\n",
      "\u001b[32m✔\u001b[39m \u001b[34mggplot2\u001b[39m 3.3.3     \u001b[32m✔\u001b[39m \u001b[34mpurrr  \u001b[39m 0.3.4\n",
      "\u001b[32m✔\u001b[39m \u001b[34mtibble \u001b[39m 3.1.4     \u001b[32m✔\u001b[39m \u001b[34mdplyr  \u001b[39m 1.0.5\n",
      "\u001b[32m✔\u001b[39m \u001b[34mtidyr  \u001b[39m 1.1.3     \u001b[32m✔\u001b[39m \u001b[34mstringr\u001b[39m 1.4.0\n",
      "\u001b[32m✔\u001b[39m \u001b[34mreadr  \u001b[39m 2.0.1     \u001b[32m✔\u001b[39m \u001b[34mforcats\u001b[39m 0.5.1\n",
      "\n",
      "── \u001b[1mConflicts\u001b[22m ────────────────────────────────────────── tidyverse_conflicts() ──\n",
      "\u001b[31m✖\u001b[39m \u001b[34mdplyr\u001b[39m::\u001b[32mfilter()\u001b[39m masks \u001b[34mstats\u001b[39m::filter()\n",
      "\u001b[31m✖\u001b[39m \u001b[34mdplyr\u001b[39m::\u001b[32mlag()\u001b[39m    masks \u001b[34mstats\u001b[39m::lag()\n",
      "\n"
     ]
    }
   ],
   "source": [
    "# Attach required packages\n",
    "library(tidyverse)\n",
    "library(ggalluvial)\n",
    "library(TCGAbiolinks)"
   ]
  },
  {
   "cell_type": "code",
   "execution_count": 23,
   "metadata": {},
   "outputs": [],
   "source": [
    "# Specify path to directory with downloaded data\n",
    "data_dir_path = \"../aml\"\n",
    "stopifnot(file.exists(file.path(data_dir_path, 'exp')) & file.exists(file.path(data_dir_path, 'methy')) & \n",
    "          file.exists(file.path(data_dir_path, 'mirna')))"
   ]
  },
  {
   "cell_type": "code",
   "execution_count": 3,
   "metadata": {},
   "outputs": [],
   "source": [
    "# Inrease plot resolution in this notebook\n",
    "options(repr.plot.res=150)"
   ]
  },
  {
   "cell_type": "markdown",
   "metadata": {},
   "source": [
    "## Step 2: Fetch TCGA metadata"
   ]
  },
  {
   "cell_type": "code",
   "execution_count": 4,
   "metadata": {},
   "outputs": [
    {
     "data": {
      "text/html": [
       "<table>\n",
       "<caption>A tibble: 6 × 10</caption>\n",
       "<thead>\n",
       "\t<tr><th scope=col>pan.samplesID</th><th scope=col>cancer.type</th><th scope=col>Subtype_mRNA</th><th scope=col>Subtype_DNAmeth</th><th scope=col>Subtype_protein</th><th scope=col>Subtype_miRNA</th><th scope=col>Subtype_CNA</th><th scope=col>Subtype_Integrative</th><th scope=col>Subtype_other</th><th scope=col>Subtype_Selected</th></tr>\n",
       "\t<tr><th scope=col>&lt;chr&gt;</th><th scope=col>&lt;chr&gt;</th><th scope=col>&lt;chr&gt;</th><th scope=col>&lt;chr&gt;</th><th scope=col>&lt;int&gt;</th><th scope=col>&lt;chr&gt;</th><th scope=col>&lt;chr&gt;</th><th scope=col>&lt;chr&gt;</th><th scope=col>&lt;chr&gt;</th><th scope=col>&lt;chr&gt;</th></tr>\n",
       "</thead>\n",
       "<tbody>\n",
       "\t<tr><td>TCGA-AB-2802</td><td>AML</td><td>NA</td><td>NA</td><td>NA</td><td>3</td><td>NA</td><td>NA</td><td>NA</td><td>AML.NA</td></tr>\n",
       "\t<tr><td>TCGA-AB-2803</td><td>AML</td><td>3 </td><td>NA</td><td>NA</td><td>5</td><td>NA</td><td>NA</td><td>NA</td><td>AML.3 </td></tr>\n",
       "\t<tr><td>TCGA-AB-2805</td><td>AML</td><td>5 </td><td>NA</td><td>NA</td><td>1</td><td>NA</td><td>NA</td><td>NA</td><td>AML.5 </td></tr>\n",
       "\t<tr><td>TCGA-AB-2806</td><td>AML</td><td>4 </td><td>NA</td><td>NA</td><td>4</td><td>NA</td><td>NA</td><td>NA</td><td>AML.4 </td></tr>\n",
       "\t<tr><td>TCGA-AB-2807</td><td>AML</td><td>6 </td><td>NA</td><td>NA</td><td>4</td><td>NA</td><td>NA</td><td>NA</td><td>AML.6 </td></tr>\n",
       "\t<tr><td>TCGA-AB-2808</td><td>AML</td><td>5 </td><td>NA</td><td>NA</td><td>4</td><td>NA</td><td>NA</td><td>NA</td><td>AML.5 </td></tr>\n",
       "</tbody>\n",
       "</table>\n"
      ],
      "text/latex": [
       "A tibble: 6 × 10\n",
       "\\begin{tabular}{llllllllll}\n",
       " pan.samplesID & cancer.type & Subtype\\_mRNA & Subtype\\_DNAmeth & Subtype\\_protein & Subtype\\_miRNA & Subtype\\_CNA & Subtype\\_Integrative & Subtype\\_other & Subtype\\_Selected\\\\\n",
       " <chr> & <chr> & <chr> & <chr> & <int> & <chr> & <chr> & <chr> & <chr> & <chr>\\\\\n",
       "\\hline\n",
       "\t TCGA-AB-2802 & AML & NA & NA & NA & 3 & NA & NA & NA & AML.NA\\\\\n",
       "\t TCGA-AB-2803 & AML & 3  & NA & NA & 5 & NA & NA & NA & AML.3 \\\\\n",
       "\t TCGA-AB-2805 & AML & 5  & NA & NA & 1 & NA & NA & NA & AML.5 \\\\\n",
       "\t TCGA-AB-2806 & AML & 4  & NA & NA & 4 & NA & NA & NA & AML.4 \\\\\n",
       "\t TCGA-AB-2807 & AML & 6  & NA & NA & 4 & NA & NA & NA & AML.6 \\\\\n",
       "\t TCGA-AB-2808 & AML & 5  & NA & NA & 4 & NA & NA & NA & AML.5 \\\\\n",
       "\\end{tabular}\n"
      ],
      "text/markdown": [
       "\n",
       "A tibble: 6 × 10\n",
       "\n",
       "| pan.samplesID &lt;chr&gt; | cancer.type &lt;chr&gt; | Subtype_mRNA &lt;chr&gt; | Subtype_DNAmeth &lt;chr&gt; | Subtype_protein &lt;int&gt; | Subtype_miRNA &lt;chr&gt; | Subtype_CNA &lt;chr&gt; | Subtype_Integrative &lt;chr&gt; | Subtype_other &lt;chr&gt; | Subtype_Selected &lt;chr&gt; |\n",
       "|---|---|---|---|---|---|---|---|---|---|\n",
       "| TCGA-AB-2802 | AML | NA | NA | NA | 3 | NA | NA | NA | AML.NA |\n",
       "| TCGA-AB-2803 | AML | 3  | NA | NA | 5 | NA | NA | NA | AML.3  |\n",
       "| TCGA-AB-2805 | AML | 5  | NA | NA | 1 | NA | NA | NA | AML.5  |\n",
       "| TCGA-AB-2806 | AML | 4  | NA | NA | 4 | NA | NA | NA | AML.4  |\n",
       "| TCGA-AB-2807 | AML | 6  | NA | NA | 4 | NA | NA | NA | AML.6  |\n",
       "| TCGA-AB-2808 | AML | 5  | NA | NA | 4 | NA | NA | NA | AML.5  |\n",
       "\n"
      ],
      "text/plain": [
       "  pan.samplesID cancer.type Subtype_mRNA Subtype_DNAmeth Subtype_protein\n",
       "1 TCGA-AB-2802  AML         NA           NA              NA             \n",
       "2 TCGA-AB-2803  AML         3            NA              NA             \n",
       "3 TCGA-AB-2805  AML         5            NA              NA             \n",
       "4 TCGA-AB-2806  AML         4            NA              NA             \n",
       "5 TCGA-AB-2807  AML         6            NA              NA             \n",
       "6 TCGA-AB-2808  AML         5            NA              NA             \n",
       "  Subtype_miRNA Subtype_CNA Subtype_Integrative Subtype_other Subtype_Selected\n",
       "1 3             NA          NA                  NA            AML.NA          \n",
       "2 5             NA          NA                  NA            AML.3           \n",
       "3 1             NA          NA                  NA            AML.5           \n",
       "4 4             NA          NA                  NA            AML.4           \n",
       "5 4             NA          NA                  NA            AML.6           \n",
       "6 4             NA          NA                  NA            AML.5           "
      ]
     },
     "metadata": {},
     "output_type": "display_data"
    }
   ],
   "source": [
    "pancancer_subtypes <- PanCancerAtlas_subtypes() %>%\n",
    "    as_tibble() %>%\n",
    "    filter(cancer.type == \"AML\")\n",
    "head(pancancer_subtypes)"
   ]
  },
  {
   "cell_type": "code",
   "execution_count": 5,
   "metadata": {},
   "outputs": [
    {
     "name": "stderr",
     "output_type": "stream",
     "text": [
      "`summarise()` has grouped output by 'classification'. You can override using the `.groups` argument.\n",
      "\n"
     ]
    },
    {
     "data": {
      "text/html": [
       "<table>\n",
       "<caption>A grouped_df: 26 × 3</caption>\n",
       "<thead>\n",
       "\t<tr><th scope=col>classification</th><th scope=col>subtype</th><th scope=col>nsamples</th></tr>\n",
       "\t<tr><th scope=col>&lt;chr&gt;</th><th scope=col>&lt;chr&gt;</th><th scope=col>&lt;int&gt;</th></tr>\n",
       "</thead>\n",
       "<tbody>\n",
       "\t<tr><td>Subtype_CNA        </td><td>NA    </td><td>187</td></tr>\n",
       "\t<tr><td>Subtype_DNAmeth    </td><td>NA    </td><td>187</td></tr>\n",
       "\t<tr><td>Subtype_Integrative</td><td>NA    </td><td>187</td></tr>\n",
       "\t<tr><td>Subtype_miRNA      </td><td>1     </td><td> 14</td></tr>\n",
       "\t<tr><td>Subtype_miRNA      </td><td>2     </td><td> 40</td></tr>\n",
       "\t<tr><td>Subtype_miRNA      </td><td>3     </td><td> 50</td></tr>\n",
       "\t<tr><td>Subtype_miRNA      </td><td>4     </td><td> 65</td></tr>\n",
       "\t<tr><td>Subtype_miRNA      </td><td>5     </td><td> 18</td></tr>\n",
       "\t<tr><td>Subtype_mRNA       </td><td>1     </td><td> 14</td></tr>\n",
       "\t<tr><td>Subtype_mRNA       </td><td>2     </td><td> 21</td></tr>\n",
       "\t<tr><td>Subtype_mRNA       </td><td>3     </td><td> 18</td></tr>\n",
       "\t<tr><td>Subtype_mRNA       </td><td>4     </td><td> 37</td></tr>\n",
       "\t<tr><td>Subtype_mRNA       </td><td>5     </td><td> 33</td></tr>\n",
       "\t<tr><td>Subtype_mRNA       </td><td>6     </td><td> 35</td></tr>\n",
       "\t<tr><td>Subtype_mRNA       </td><td>7     </td><td> 20</td></tr>\n",
       "\t<tr><td>Subtype_mRNA       </td><td>NA    </td><td>  9</td></tr>\n",
       "\t<tr><td>Subtype_other      </td><td>NA    </td><td>187</td></tr>\n",
       "\t<tr><td>Subtype_protein    </td><td>NA    </td><td>187</td></tr>\n",
       "\t<tr><td>Subtype_Selected   </td><td>AML.1 </td><td> 14</td></tr>\n",
       "\t<tr><td>Subtype_Selected   </td><td>AML.2 </td><td> 21</td></tr>\n",
       "\t<tr><td>Subtype_Selected   </td><td>AML.3 </td><td> 18</td></tr>\n",
       "\t<tr><td>Subtype_Selected   </td><td>AML.4 </td><td> 37</td></tr>\n",
       "\t<tr><td>Subtype_Selected   </td><td>AML.5 </td><td> 33</td></tr>\n",
       "\t<tr><td>Subtype_Selected   </td><td>AML.6 </td><td> 35</td></tr>\n",
       "\t<tr><td>Subtype_Selected   </td><td>AML.7 </td><td> 20</td></tr>\n",
       "\t<tr><td>Subtype_Selected   </td><td>AML.NA</td><td>  9</td></tr>\n",
       "</tbody>\n",
       "</table>\n"
      ],
      "text/latex": [
       "A grouped\\_df: 26 × 3\n",
       "\\begin{tabular}{lll}\n",
       " classification & subtype & nsamples\\\\\n",
       " <chr> & <chr> & <int>\\\\\n",
       "\\hline\n",
       "\t Subtype\\_CNA         & NA     & 187\\\\\n",
       "\t Subtype\\_DNAmeth     & NA     & 187\\\\\n",
       "\t Subtype\\_Integrative & NA     & 187\\\\\n",
       "\t Subtype\\_miRNA       & 1      &  14\\\\\n",
       "\t Subtype\\_miRNA       & 2      &  40\\\\\n",
       "\t Subtype\\_miRNA       & 3      &  50\\\\\n",
       "\t Subtype\\_miRNA       & 4      &  65\\\\\n",
       "\t Subtype\\_miRNA       & 5      &  18\\\\\n",
       "\t Subtype\\_mRNA        & 1      &  14\\\\\n",
       "\t Subtype\\_mRNA        & 2      &  21\\\\\n",
       "\t Subtype\\_mRNA        & 3      &  18\\\\\n",
       "\t Subtype\\_mRNA        & 4      &  37\\\\\n",
       "\t Subtype\\_mRNA        & 5      &  33\\\\\n",
       "\t Subtype\\_mRNA        & 6      &  35\\\\\n",
       "\t Subtype\\_mRNA        & 7      &  20\\\\\n",
       "\t Subtype\\_mRNA        & NA     &   9\\\\\n",
       "\t Subtype\\_other       & NA     & 187\\\\\n",
       "\t Subtype\\_protein     & NA     & 187\\\\\n",
       "\t Subtype\\_Selected    & AML.1  &  14\\\\\n",
       "\t Subtype\\_Selected    & AML.2  &  21\\\\\n",
       "\t Subtype\\_Selected    & AML.3  &  18\\\\\n",
       "\t Subtype\\_Selected    & AML.4  &  37\\\\\n",
       "\t Subtype\\_Selected    & AML.5  &  33\\\\\n",
       "\t Subtype\\_Selected    & AML.6  &  35\\\\\n",
       "\t Subtype\\_Selected    & AML.7  &  20\\\\\n",
       "\t Subtype\\_Selected    & AML.NA &   9\\\\\n",
       "\\end{tabular}\n"
      ],
      "text/markdown": [
       "\n",
       "A grouped_df: 26 × 3\n",
       "\n",
       "| classification &lt;chr&gt; | subtype &lt;chr&gt; | nsamples &lt;int&gt; |\n",
       "|---|---|---|\n",
       "| Subtype_CNA         | NA     | 187 |\n",
       "| Subtype_DNAmeth     | NA     | 187 |\n",
       "| Subtype_Integrative | NA     | 187 |\n",
       "| Subtype_miRNA       | 1      |  14 |\n",
       "| Subtype_miRNA       | 2      |  40 |\n",
       "| Subtype_miRNA       | 3      |  50 |\n",
       "| Subtype_miRNA       | 4      |  65 |\n",
       "| Subtype_miRNA       | 5      |  18 |\n",
       "| Subtype_mRNA        | 1      |  14 |\n",
       "| Subtype_mRNA        | 2      |  21 |\n",
       "| Subtype_mRNA        | 3      |  18 |\n",
       "| Subtype_mRNA        | 4      |  37 |\n",
       "| Subtype_mRNA        | 5      |  33 |\n",
       "| Subtype_mRNA        | 6      |  35 |\n",
       "| Subtype_mRNA        | 7      |  20 |\n",
       "| Subtype_mRNA        | NA     |   9 |\n",
       "| Subtype_other       | NA     | 187 |\n",
       "| Subtype_protein     | NA     | 187 |\n",
       "| Subtype_Selected    | AML.1  |  14 |\n",
       "| Subtype_Selected    | AML.2  |  21 |\n",
       "| Subtype_Selected    | AML.3  |  18 |\n",
       "| Subtype_Selected    | AML.4  |  37 |\n",
       "| Subtype_Selected    | AML.5  |  33 |\n",
       "| Subtype_Selected    | AML.6  |  35 |\n",
       "| Subtype_Selected    | AML.7  |  20 |\n",
       "| Subtype_Selected    | AML.NA |   9 |\n",
       "\n"
      ],
      "text/plain": [
       "   classification      subtype nsamples\n",
       "1  Subtype_CNA         NA      187     \n",
       "2  Subtype_DNAmeth     NA      187     \n",
       "3  Subtype_Integrative NA      187     \n",
       "4  Subtype_miRNA       1        14     \n",
       "5  Subtype_miRNA       2        40     \n",
       "6  Subtype_miRNA       3        50     \n",
       "7  Subtype_miRNA       4        65     \n",
       "8  Subtype_miRNA       5        18     \n",
       "9  Subtype_mRNA        1        14     \n",
       "10 Subtype_mRNA        2        21     \n",
       "11 Subtype_mRNA        3        18     \n",
       "12 Subtype_mRNA        4        37     \n",
       "13 Subtype_mRNA        5        33     \n",
       "14 Subtype_mRNA        6        35     \n",
       "15 Subtype_mRNA        7        20     \n",
       "16 Subtype_mRNA        NA        9     \n",
       "17 Subtype_other       NA      187     \n",
       "18 Subtype_protein     NA      187     \n",
       "19 Subtype_Selected    AML.1    14     \n",
       "20 Subtype_Selected    AML.2    21     \n",
       "21 Subtype_Selected    AML.3    18     \n",
       "22 Subtype_Selected    AML.4    37     \n",
       "23 Subtype_Selected    AML.5    33     \n",
       "24 Subtype_Selected    AML.6    35     \n",
       "25 Subtype_Selected    AML.7    20     \n",
       "26 Subtype_Selected    AML.NA    9     "
      ]
     },
     "metadata": {},
     "output_type": "display_data"
    }
   ],
   "source": [
    "pancancer_subtypes %>%\n",
    "    select(-cancer.type) %>%\n",
    "    gather(classification, subtype, -pan.samplesID) %>%\n",
    "    group_by(classification, subtype) %>%\n",
    "    summarise(nsamples=n())"
   ]
  },
  {
   "cell_type": "markdown",
   "metadata": {},
   "source": [
    "More information about TCGA molecular subtypes can be found [here](https://bioconductor.org/packages/release/bioc/vignettes/TCGAbiolinks/inst/doc/subtypes.html). Here we have available two classifications based on miRNA and mRNA data respectively. Subtype_Selected refers to most commonly used classification."
   ]
  },
  {
   "cell_type": "code",
   "execution_count": 6,
   "metadata": {},
   "outputs": [
    {
     "data": {
      "text/html": [
       "<table>\n",
       "<caption>A tibble: 6 × 4</caption>\n",
       "<thead>\n",
       "\t<tr><th scope=col>pan.samplesID</th><th scope=col>Subtype_miRNA</th><th scope=col>Subtype_mRNA</th><th scope=col>Subtype_Selected</th></tr>\n",
       "\t<tr><th scope=col>&lt;chr&gt;</th><th scope=col>&lt;chr&gt;</th><th scope=col>&lt;chr&gt;</th><th scope=col>&lt;chr&gt;</th></tr>\n",
       "</thead>\n",
       "<tbody>\n",
       "\t<tr><td>TCGA-AB-2802</td><td>3</td><td>NA</td><td>AML.NA</td></tr>\n",
       "\t<tr><td>TCGA-AB-2803</td><td>5</td><td>3 </td><td>AML.3 </td></tr>\n",
       "\t<tr><td>TCGA-AB-2805</td><td>1</td><td>5 </td><td>AML.5 </td></tr>\n",
       "\t<tr><td>TCGA-AB-2806</td><td>4</td><td>4 </td><td>AML.4 </td></tr>\n",
       "\t<tr><td>TCGA-AB-2807</td><td>4</td><td>6 </td><td>AML.6 </td></tr>\n",
       "\t<tr><td>TCGA-AB-2808</td><td>4</td><td>5 </td><td>AML.5 </td></tr>\n",
       "</tbody>\n",
       "</table>\n"
      ],
      "text/latex": [
       "A tibble: 6 × 4\n",
       "\\begin{tabular}{llll}\n",
       " pan.samplesID & Subtype\\_miRNA & Subtype\\_mRNA & Subtype\\_Selected\\\\\n",
       " <chr> & <chr> & <chr> & <chr>\\\\\n",
       "\\hline\n",
       "\t TCGA-AB-2802 & 3 & NA & AML.NA\\\\\n",
       "\t TCGA-AB-2803 & 5 & 3  & AML.3 \\\\\n",
       "\t TCGA-AB-2805 & 1 & 5  & AML.5 \\\\\n",
       "\t TCGA-AB-2806 & 4 & 4  & AML.4 \\\\\n",
       "\t TCGA-AB-2807 & 4 & 6  & AML.6 \\\\\n",
       "\t TCGA-AB-2808 & 4 & 5  & AML.5 \\\\\n",
       "\\end{tabular}\n"
      ],
      "text/markdown": [
       "\n",
       "A tibble: 6 × 4\n",
       "\n",
       "| pan.samplesID &lt;chr&gt; | Subtype_miRNA &lt;chr&gt; | Subtype_mRNA &lt;chr&gt; | Subtype_Selected &lt;chr&gt; |\n",
       "|---|---|---|---|\n",
       "| TCGA-AB-2802 | 3 | NA | AML.NA |\n",
       "| TCGA-AB-2803 | 5 | 3  | AML.3  |\n",
       "| TCGA-AB-2805 | 1 | 5  | AML.5  |\n",
       "| TCGA-AB-2806 | 4 | 4  | AML.4  |\n",
       "| TCGA-AB-2807 | 4 | 6  | AML.6  |\n",
       "| TCGA-AB-2808 | 4 | 5  | AML.5  |\n",
       "\n"
      ],
      "text/plain": [
       "  pan.samplesID Subtype_miRNA Subtype_mRNA Subtype_Selected\n",
       "1 TCGA-AB-2802  3             NA           AML.NA          \n",
       "2 TCGA-AB-2803  5             3            AML.3           \n",
       "3 TCGA-AB-2805  1             5            AML.5           \n",
       "4 TCGA-AB-2806  4             4            AML.4           \n",
       "5 TCGA-AB-2807  4             6            AML.6           \n",
       "6 TCGA-AB-2808  4             5            AML.5           "
      ]
     },
     "metadata": {},
     "output_type": "display_data"
    }
   ],
   "source": [
    "subtypes <- pancancer_subtypes %>% select(pan.samplesID, Subtype_miRNA, Subtype_mRNA, Subtype_Selected)\n",
    "head(subtypes)"
   ]
  },
  {
   "cell_type": "code",
   "execution_count": 24,
   "metadata": {},
   "outputs": [],
   "source": [
    "# Samples in our dataset\n",
    "samples_exp <- read.table(file.path(data_dir_path, 'exp')) %>% colnames()\n",
    "samples_methy <- read.table(file.path(data_dir_path, 'methy')) %>% colnames()\n",
    "samples_mirna <- read.table(file.path(data_dir_path, 'mirna')) %>% colnames()"
   ]
  },
  {
   "cell_type": "code",
   "execution_count": 26,
   "metadata": {},
   "outputs": [
    {
     "data": {
      "text/html": [
       "<table>\n",
       "<caption>A tibble: 6 × 5</caption>\n",
       "<thead>\n",
       "\t<tr><th scope=col>sample_codes</th><th scope=col>samples</th><th scope=col>Subtype_miRNA</th><th scope=col>Subtype_mRNA</th><th scope=col>Subtype_Selected</th></tr>\n",
       "\t<tr><th scope=col>&lt;chr&gt;</th><th scope=col>&lt;chr&gt;</th><th scope=col>&lt;chr&gt;</th><th scope=col>&lt;chr&gt;</th><th scope=col>&lt;chr&gt;</th></tr>\n",
       "</thead>\n",
       "<tbody>\n",
       "\t<tr><td>TCGA.AB.2803.03</td><td>TCGA-AB-2803</td><td>5</td><td>3</td><td>AML.3</td></tr>\n",
       "\t<tr><td>TCGA.AB.2805.03</td><td>TCGA-AB-2805</td><td>1</td><td>5</td><td>AML.5</td></tr>\n",
       "\t<tr><td>TCGA.AB.2806.03</td><td>TCGA-AB-2806</td><td>4</td><td>4</td><td>AML.4</td></tr>\n",
       "\t<tr><td>TCGA.AB.2807.03</td><td>TCGA-AB-2807</td><td>4</td><td>6</td><td>AML.6</td></tr>\n",
       "\t<tr><td>TCGA.AB.2808.03</td><td>TCGA-AB-2808</td><td>4</td><td>5</td><td>AML.5</td></tr>\n",
       "\t<tr><td>TCGA.AB.2810.03</td><td>TCGA-AB-2810</td><td>3</td><td>1</td><td>AML.1</td></tr>\n",
       "</tbody>\n",
       "</table>\n"
      ],
      "text/latex": [
       "A tibble: 6 × 5\n",
       "\\begin{tabular}{lllll}\n",
       " sample\\_codes & samples & Subtype\\_miRNA & Subtype\\_mRNA & Subtype\\_Selected\\\\\n",
       " <chr> & <chr> & <chr> & <chr> & <chr>\\\\\n",
       "\\hline\n",
       "\t TCGA.AB.2803.03 & TCGA-AB-2803 & 5 & 3 & AML.3\\\\\n",
       "\t TCGA.AB.2805.03 & TCGA-AB-2805 & 1 & 5 & AML.5\\\\\n",
       "\t TCGA.AB.2806.03 & TCGA-AB-2806 & 4 & 4 & AML.4\\\\\n",
       "\t TCGA.AB.2807.03 & TCGA-AB-2807 & 4 & 6 & AML.6\\\\\n",
       "\t TCGA.AB.2808.03 & TCGA-AB-2808 & 4 & 5 & AML.5\\\\\n",
       "\t TCGA.AB.2810.03 & TCGA-AB-2810 & 3 & 1 & AML.1\\\\\n",
       "\\end{tabular}\n"
      ],
      "text/markdown": [
       "\n",
       "A tibble: 6 × 5\n",
       "\n",
       "| sample_codes &lt;chr&gt; | samples &lt;chr&gt; | Subtype_miRNA &lt;chr&gt; | Subtype_mRNA &lt;chr&gt; | Subtype_Selected &lt;chr&gt; |\n",
       "|---|---|---|---|---|\n",
       "| TCGA.AB.2803.03 | TCGA-AB-2803 | 5 | 3 | AML.3 |\n",
       "| TCGA.AB.2805.03 | TCGA-AB-2805 | 1 | 5 | AML.5 |\n",
       "| TCGA.AB.2806.03 | TCGA-AB-2806 | 4 | 4 | AML.4 |\n",
       "| TCGA.AB.2807.03 | TCGA-AB-2807 | 4 | 6 | AML.6 |\n",
       "| TCGA.AB.2808.03 | TCGA-AB-2808 | 4 | 5 | AML.5 |\n",
       "| TCGA.AB.2810.03 | TCGA-AB-2810 | 3 | 1 | AML.1 |\n",
       "\n"
      ],
      "text/plain": [
       "  sample_codes    samples      Subtype_miRNA Subtype_mRNA Subtype_Selected\n",
       "1 TCGA.AB.2803.03 TCGA-AB-2803 5             3            AML.3           \n",
       "2 TCGA.AB.2805.03 TCGA-AB-2805 1             5            AML.5           \n",
       "3 TCGA.AB.2806.03 TCGA-AB-2806 4             4            AML.4           \n",
       "4 TCGA.AB.2807.03 TCGA-AB-2807 4             6            AML.6           \n",
       "5 TCGA.AB.2808.03 TCGA-AB-2808 4             5            AML.5           \n",
       "6 TCGA.AB.2810.03 TCGA-AB-2810 3             1            AML.1           "
      ]
     },
     "metadata": {},
     "output_type": "display_data"
    }
   ],
   "source": [
    "# unify sample notation to TCGA-XY-ABCD\n",
    "samples <- \n",
    "    tibble(sample_codes = c(samples_exp, samples_methy, samples_mirna)) %>%\n",
    "    distinct() %>%\n",
    "    separate(sample_codes, c('a', 'b', 'c'), sep=\"\\\\.\", extra = \"drop\", remove=FALSE) %>%\n",
    "    unite(c(a, b, c), col='samples', sep=\"-\") %>% \n",
    "    left_join(subtypes, by=c('samples'='pan.samplesID'))\n",
    "head(samples)"
   ]
  },
  {
   "cell_type": "markdown",
   "metadata": {},
   "source": [
    "## Step 3 Compare available classifications"
   ]
  },
  {
   "cell_type": "code",
   "execution_count": 27,
   "metadata": {
    "scrolled": true
   },
   "outputs": [
    {
     "data": {
      "text/html": [
       "<style>\n",
       ".list-inline {list-style: none; margin:0; padding: 0}\n",
       ".list-inline>li {display: inline-block}\n",
       ".list-inline>li:not(:last-child)::after {content: \"\\00b7\"; padding: 0 .5ex}\n",
       "</style>\n",
       "<ol class=list-inline><li>197</li><li>5</li></ol>\n"
      ],
      "text/latex": [
       "\\begin{enumerate*}\n",
       "\\item 197\n",
       "\\item 5\n",
       "\\end{enumerate*}\n"
      ],
      "text/markdown": [
       "1. 197\n",
       "2. 5\n",
       "\n",
       "\n"
      ],
      "text/plain": [
       "[1] 197   5"
      ]
     },
     "metadata": {},
     "output_type": "display_data"
    }
   ],
   "source": [
    "data <- samples %>% \n",
    "    mutate(Subtype_miRNA=ifelse(is.na(Subtype_miRNA), 'miRNA.NA', Subtype_miRNA), # distinct groups for plotting \n",
    "           Subtype_mRNA=ifelse(is.na(Subtype_mRNA), 'mRNA.NA', Subtype_mRNA),\n",
    "           Subtype_Selected=ifelse(is.na(Subtype_Selected), 'AML.NA', Subtype_Selected))\n",
    "dim(data)"
   ]
  },
  {
   "cell_type": "code",
   "execution_count": 32,
   "metadata": {},
   "outputs": [
    {
     "name": "stderr",
     "output_type": "stream",
     "text": [
      "`summarise()` has grouped output by 'Subtype_miRNA', 'Subtype_mRNA'. You can override using the `.groups` argument.\n",
      "\n",
      "Warning message in to_lodes_form(data = data, axes = axis_ind, discern = params$discern):\n",
      "“Some strata appear at multiple axes.”\n",
      "Warning message in to_lodes_form(data = data, axes = axis_ind, discern = params$discern):\n",
      "“Some strata appear at multiple axes.”\n",
      "Warning message in to_lodes_form(data = data, axes = axis_ind, discern = params$discern):\n",
      "“Some strata appear at multiple axes.”\n"
     ]
    },
    {
     "data": {
      "image/png": "[encoded data removed]",
      "text/plain": [
       "plot without title"
      ]
     },
     "metadata": {
      "image/png": {
       "height": 525,
       "width": 525
      }
     },
     "output_type": "display_data"
    }
   ],
   "source": [
    "data %>%\n",
    "    group_by(Subtype_miRNA, Subtype_mRNA, Subtype_Selected) %>%\n",
    "    summarise(nsamples=n()) %>%\n",
    "    ggplot(aes(y=nsamples, axis1=Subtype_miRNA, axis2=Subtype_mRNA, \n",
    "                      axis3=Subtype_Selected)) +\n",
    "      geom_alluvium(aes(fill=Subtype_Selected), width = 0, knot.pos = 0, reverse = FALSE) +\n",
    "      guides(fill = FALSE) +\n",
    "      geom_stratum(width = 1/3, reverse = FALSE) +\n",
    "      geom_text(stat = \"stratum\", aes(label = after_stat(stratum)),\n",
    "                reverse = FALSE) +\n",
    "      scale_x_continuous(breaks = 1:3, labels = c(\"Subtype miRNA\", \"Subtype mRNA\", \"Subtype Selected\")) +\n",
    "      labs(title=\"TCGA Acute Myeloid Leukemia Subtypes\", y=\"#samples\")"
   ]
  },
  {
   "cell_type": "code",
   "execution_count": 40,
   "metadata": {},
   "outputs": [],
   "source": [
    "# change \"AML.NA\" subtype into NA\n",
    "samples <- samples %>% mutate(Subtype_Selected = ifelse(grepl(\"NA\", Subtype_Selected), NA, Subtype_Selected))"
   ]
  },
  {
   "cell_type": "code",
   "execution_count": 46,
   "metadata": {},
   "outputs": [],
   "source": [
    "# save sample labels into tab delimited files\n",
    "write_tsv(samples, file = 'AML_subtypes.tsv')\n",
    "\n",
    "labels_mRNA <- samples %>% \n",
    "    select(samples, Subtype_mRNA) %>%\n",
    "    rename(sample=samples, label=Subtype_mRNA) \n",
    "write_tsv(labels_mRNA, file = 'AML_subtypes_mRNA.tsv')\n",
    "\n",
    "labels_miRNA <- samples %>% \n",
    "    select(samples, Subtype_miRNA) %>%\n",
    "    rename(sample=samples, label=Subtype_miRNA) \n",
    "write_tsv(labels_miRNA, file = 'AML_subtypes_mRNA.tsv')"
   ]
  }
 ],
 "metadata": {
  "kernelspec": {
   "display_name": "R",
   "language": "R",
   "name": "ir"
  },
  "language_info": {
   "codemirror_mode": "r",
   "file_extension": ".r",
   "mimetype": "text/x-r-source",
   "name": "R",
   "pygments_lexer": "r",
   "version": "3.6.3"
  }
 },
 "nbformat": 4,
 "nbformat_minor": 2
}
